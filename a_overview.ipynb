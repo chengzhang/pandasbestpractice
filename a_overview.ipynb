{
 "cells": [
  {
   "cell_type": "markdown",
   "id": "86ceb42e",
   "metadata": {},
   "source": [
    "# pandas 教程\n",
    "开源、高性能、易用。\n",
    "\n",
    "numpy 为它提供高性能矩阵计算。\n",
    "\n",
    "各种文件格式的输入输出：\n",
    "- csv\n",
    "- json\n",
    "- sql\n",
    "- excel\n",
    "\n",
    "数据操作：\n",
    "- 归并\n",
    "- reshape\n",
    "- 筛选\n",
    "- 数据清洗\n",
    "- 加工特征\n",
    "\n",
    "广泛应用于：\n",
    "- 学术\n",
    "- 金融\n",
    "- 统计学\n",
    "- 社会学\n",
    "- 工程\n",
    "\n",
    "## 数据结构\n",
    "主要是 Series 和 DataFrame。\n",
    "- series: 一维数组\n",
    "- DataFrame: 二维数组，表格型，包含一组有序的列，每列可以是不同的类型的。它既有行索引，也有列索引，可以看做是 series的字典。"
   ]
  },
  {
   "cell_type": "code",
   "execution_count": null,
   "id": "6b1b99fa",
   "metadata": {},
   "outputs": [],
   "source": []
  }
 ],
 "metadata": {
  "hide_input": false,
  "kernelspec": {
   "display_name": "Python 3",
   "language": "python",
   "name": "python3"
  },
  "language_info": {
   "codemirror_mode": {
    "name": "ipython",
    "version": 3
   },
   "file_extension": ".py",
   "mimetype": "text/x-python",
   "name": "python",
   "nbconvert_exporter": "python",
   "pygments_lexer": "ipython3",
   "version": "3.8.8"
  },
  "toc": {
   "base_numbering": 1,
   "nav_menu": {},
   "number_sections": true,
   "sideBar": true,
   "skip_h1_title": false,
   "title_cell": "Table of Contents",
   "title_sidebar": "Contents",
   "toc_cell": false,
   "toc_position": {},
   "toc_section_display": true,
   "toc_window_display": false
  },
  "varInspector": {
   "cols": {
    "lenName": 16,
    "lenType": 16,
    "lenVar": 40
   },
   "kernels_config": {
    "python": {
     "delete_cmd_postfix": "",
     "delete_cmd_prefix": "del ",
     "library": "var_list.py",
     "varRefreshCmd": "print(var_dic_list())"
    },
    "r": {
     "delete_cmd_postfix": ") ",
     "delete_cmd_prefix": "rm(",
     "library": "var_list.r",
     "varRefreshCmd": "cat(var_dic_list()) "
    }
   },
   "types_to_exclude": [
    "module",
    "function",
    "builtin_function_or_method",
    "instance",
    "_Feature"
   ],
   "window_display": false
  }
 },
 "nbformat": 4,
 "nbformat_minor": 5
}
