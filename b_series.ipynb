{
 "cells": [
  {
   "cell_type": "markdown",
   "id": "38cd010f",
   "metadata": {},
   "source": [
    "# pandas 数据结构 Series \n",
    "它类似于表格中的一列，一维数组。由 索引(index) 和 列 组成。\n",
    "```\n",
    "pandas.Series(data, index, dtype, name, copy) \n",
    "```\n",
    "- data: 一组数据（ndarray 类型）\n",
    "- index：数据索引标签，如果不指定则从0开始\n",
    "- copy：拷贝数据，默认为 False"
   ]
  },
  {
   "cell_type": "code",
   "execution_count": 2,
   "id": "7177df60",
   "metadata": {
    "ExecuteTime": {
     "end_time": "2021-10-14T08:12:28.252653Z",
     "start_time": "2021-10-14T08:12:28.233106Z"
    }
   },
   "outputs": [
    {
     "data": {
      "text/plain": [
       "0    1\n",
       "1    2\n",
       "2    3\n",
       "dtype: int64"
      ]
     },
     "execution_count": 2,
     "metadata": {},
     "output_type": "execute_result"
    }
   ],
   "source": [
    "import pandas as pd\n",
    "a = [1, 2, 3]\n",
    "pd.Series(a)\n",
    "# 结果解释：第一列是索引值，第二列是数据，dtype描述了数据类型 "
   ]
  },
  {
   "cell_type": "code",
   "execution_count": 3,
   "id": "81a484bf",
   "metadata": {
    "ExecuteTime": {
     "end_time": "2021-10-14T08:16:16.533101Z",
     "start_time": "2021-10-14T08:16:16.528447Z"
    }
   },
   "outputs": [
    {
     "data": {
      "text/plain": [
       "2"
      ]
     },
     "execution_count": 3,
     "metadata": {},
     "output_type": "execute_result"
    }
   ],
   "source": [
    "# 所以可以通过索引来访问数据，默认索引是从0开始的数字\n",
    "foo = pd.Series([1, 2, 3])\n",
    "foo[1]"
   ]
  },
  {
   "cell_type": "markdown",
   "id": "9c31ab5b",
   "metadata": {},
   "source": [
    "## 指定索引值"
   ]
  },
  {
   "cell_type": "code",
   "execution_count": 4,
   "id": "1ee1b8fc",
   "metadata": {
    "ExecuteTime": {
     "end_time": "2021-10-14T08:17:48.910086Z",
     "start_time": "2021-10-14T08:17:48.904924Z"
    }
   },
   "outputs": [
    {
     "data": {
      "text/plain": [
       "x    google\n",
       "y    runoob\n",
       "z      wiki\n",
       "dtype: object"
      ]
     },
     "execution_count": 4,
     "metadata": {},
     "output_type": "execute_result"
    }
   ],
   "source": [
    "a = ['google', 'runoob', 'wiki']\n",
    "se = pd.Series(a, index=['x', 'y', 'z'])\n",
    "se"
   ]
  },
  {
   "cell_type": "code",
   "execution_count": 5,
   "id": "8db301fc",
   "metadata": {
    "ExecuteTime": {
     "end_time": "2021-10-14T08:17:59.425296Z",
     "start_time": "2021-10-14T08:17:59.421345Z"
    }
   },
   "outputs": [
    {
     "data": {
      "text/plain": [
       "'wiki'"
      ]
     },
     "execution_count": 5,
     "metadata": {},
     "output_type": "execute_result"
    }
   ],
   "source": [
    "se['z']"
   ]
  },
  {
   "cell_type": "markdown",
   "id": "a0c44887",
   "metadata": {},
   "source": [
    "## 使用 key-value 对，即字典，来创建Series"
   ]
  },
  {
   "cell_type": "code",
   "execution_count": 6,
   "id": "1d3daa5c",
   "metadata": {
    "ExecuteTime": {
     "end_time": "2021-10-14T08:19:37.576476Z",
     "start_time": "2021-10-14T08:19:37.570457Z"
    }
   },
   "outputs": [
    {
     "data": {
      "text/plain": [
       "1    google\n",
       "2    runoob\n",
       "3      wiki\n",
       "dtype: object"
      ]
     },
     "execution_count": 6,
     "metadata": {},
     "output_type": "execute_result"
    }
   ],
   "source": [
    "sites = {\n",
    "    1: 'google', \n",
    "    2: 'runoob', \n",
    "    3: 'wiki', \n",
    "}\n",
    "pd.Series(sites)"
   ]
  },
  {
   "cell_type": "code",
   "execution_count": 7,
   "id": "80e10b27",
   "metadata": {
    "ExecuteTime": {
     "end_time": "2021-10-14T08:26:43.186393Z",
     "start_time": "2021-10-14T08:26:43.175517Z"
    }
   },
   "outputs": [
    {
     "data": {
      "text/plain": [
       "1    google\n",
       "2    runoob\n",
       "dtype: object"
      ]
     },
     "execution_count": 7,
     "metadata": {},
     "output_type": "execute_result"
    }
   ],
   "source": [
    "# 如果只需要一部分数据, 通过 index 参数来筛选 key \n",
    "sites = {\n",
    "    1: 'google', \n",
    "    2: 'runoob', \n",
    "    3: 'wiki', \n",
    "}\n",
    "pd.Series(sites, index=[1, 2])\n"
   ]
  },
  {
   "cell_type": "code",
   "execution_count": null,
   "id": "a6a39204",
   "metadata": {},
   "outputs": [],
   "source": []
  }
 ],
 "metadata": {
  "hide_input": false,
  "kernelspec": {
   "display_name": "Python 3",
   "language": "python",
   "name": "python3"
  },
  "language_info": {
   "codemirror_mode": {
    "name": "ipython",
    "version": 3
   },
   "file_extension": ".py",
   "mimetype": "text/x-python",
   "name": "python",
   "nbconvert_exporter": "python",
   "pygments_lexer": "ipython3",
   "version": "3.8.8"
  },
  "toc": {
   "base_numbering": 1,
   "nav_menu": {},
   "number_sections": true,
   "sideBar": true,
   "skip_h1_title": false,
   "title_cell": "Table of Contents",
   "title_sidebar": "Contents",
   "toc_cell": false,
   "toc_position": {},
   "toc_section_display": true,
   "toc_window_display": false
  },
  "varInspector": {
   "cols": {
    "lenName": 16,
    "lenType": 16,
    "lenVar": 40
   },
   "kernels_config": {
    "python": {
     "delete_cmd_postfix": "",
     "delete_cmd_prefix": "del ",
     "library": "var_list.py",
     "varRefreshCmd": "print(var_dic_list())"
    },
    "r": {
     "delete_cmd_postfix": ") ",
     "delete_cmd_prefix": "rm(",
     "library": "var_list.r",
     "varRefreshCmd": "cat(var_dic_list()) "
    }
   },
   "types_to_exclude": [
    "module",
    "function",
    "builtin_function_or_method",
    "instance",
    "_Feature"
   ],
   "window_display": false
  }
 },
 "nbformat": 4,
 "nbformat_minor": 5
}
