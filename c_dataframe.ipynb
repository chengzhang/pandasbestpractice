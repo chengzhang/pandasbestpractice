{
 "cells": [
  {
   "cell_type": "markdown",
   "id": "c6a6f5bf",
   "metadata": {},
   "source": [
    "# pandas 数据结构 - DataFrame \n",
    "二维表格，在行上和列上都有索引：\n",
    "1. 行：Record \n",
    "2. 列：Series \n",
    "\n",
    "```\n",
    "pandas.DataFrame(data, index, columns, dtype, copy) \n",
    "```\n",
    "- data: 一组数据 （ndarray，series，map，list，dict 等类型）\n",
    "- index: 行索引，或称作行标签\n",
    "- columns: 列索引，或称作列标签，默认为 RangeIndex(0,1,2,...,n)"
   ]
  },
  {
   "cell_type": "code",
   "execution_count": 14,
   "id": "efab1b4d",
   "metadata": {
    "ExecuteTime": {
     "end_time": "2021-10-14T08:49:32.505360Z",
     "start_time": "2021-10-14T08:49:32.496124Z"
    }
   },
   "outputs": [
    {
     "data": {
      "text/html": [
       "<div>\n",
       "<style scoped>\n",
       "    .dataframe tbody tr th:only-of-type {\n",
       "        vertical-align: middle;\n",
       "    }\n",
       "\n",
       "    .dataframe tbody tr th {\n",
       "        vertical-align: top;\n",
       "    }\n",
       "\n",
       "    .dataframe thead th {\n",
       "        text-align: right;\n",
       "    }\n",
       "</style>\n",
       "<table border=\"1\" class=\"dataframe\">\n",
       "  <thead>\n",
       "    <tr style=\"text-align: right;\">\n",
       "      <th></th>\n",
       "      <th>Site</th>\n",
       "      <th>Age</th>\n",
       "    </tr>\n",
       "  </thead>\n",
       "  <tbody>\n",
       "    <tr>\n",
       "      <th>g1</th>\n",
       "      <td>google</td>\n",
       "      <td>10.0</td>\n",
       "    </tr>\n",
       "    <tr>\n",
       "      <th>g2</th>\n",
       "      <td>Runoob</td>\n",
       "      <td>12.0</td>\n",
       "    </tr>\n",
       "    <tr>\n",
       "      <th>g3</th>\n",
       "      <td>wiki</td>\n",
       "      <td>13.0</td>\n",
       "    </tr>\n",
       "  </tbody>\n",
       "</table>\n",
       "</div>"
      ],
      "text/plain": [
       "      Site   Age\n",
       "g1  google  10.0\n",
       "g2  Runoob  12.0\n",
       "g3    wiki  13.0"
      ]
     },
     "execution_count": 14,
     "metadata": {},
     "output_type": "execute_result"
    }
   ],
   "source": [
    "import pandas as pd \n",
    "data = [\n",
    "    ['google', 10], \n",
    "    ['Runoob', 12], \n",
    "    ['wiki', 13], \n",
    "]\n",
    "df = pd.DataFrame(data, index=['g1', 'g2', 'g3'], columns=['Site', 'Age'], dtype=float)\n",
    "df"
   ]
  },
  {
   "cell_type": "markdown",
   "id": "066e88c8",
   "metadata": {
    "ExecuteTime": {
     "end_time": "2021-10-14T08:36:28.461310Z",
     "start_time": "2021-10-14T08:36:28.452978Z"
    }
   },
   "source": [
    "## 使用 ndarray 创建\n"
   ]
  },
  {
   "cell_type": "code",
   "execution_count": 4,
   "id": "39c8b54f",
   "metadata": {
    "ExecuteTime": {
     "end_time": "2021-10-14T08:36:54.416956Z",
     "start_time": "2021-10-14T08:36:54.409337Z"
    }
   },
   "outputs": [
    {
     "data": {
      "text/html": [
       "<div>\n",
       "<style scoped>\n",
       "    .dataframe tbody tr th:only-of-type {\n",
       "        vertical-align: middle;\n",
       "    }\n",
       "\n",
       "    .dataframe tbody tr th {\n",
       "        vertical-align: top;\n",
       "    }\n",
       "\n",
       "    .dataframe thead th {\n",
       "        text-align: right;\n",
       "    }\n",
       "</style>\n",
       "<table border=\"1\" class=\"dataframe\">\n",
       "  <thead>\n",
       "    <tr style=\"text-align: right;\">\n",
       "      <th></th>\n",
       "      <th>Site</th>\n",
       "      <th>Age</th>\n",
       "    </tr>\n",
       "  </thead>\n",
       "  <tbody>\n",
       "    <tr>\n",
       "      <th>0</th>\n",
       "      <td>google</td>\n",
       "      <td>10</td>\n",
       "    </tr>\n",
       "    <tr>\n",
       "      <th>1</th>\n",
       "      <td>Runoob</td>\n",
       "      <td>12</td>\n",
       "    </tr>\n",
       "    <tr>\n",
       "      <th>2</th>\n",
       "      <td>Wiki</td>\n",
       "      <td>13</td>\n",
       "    </tr>\n",
       "  </tbody>\n",
       "</table>\n",
       "</div>"
      ],
      "text/plain": [
       "     Site  Age\n",
       "0  google   10\n",
       "1  Runoob   12\n",
       "2    Wiki   13"
      ]
     },
     "execution_count": 4,
     "metadata": {},
     "output_type": "execute_result"
    }
   ],
   "source": [
    "data = {\n",
    "    'Site': ['google', 'Runoob', 'Wiki'], \n",
    "    'Age': [10, 12, 13]\n",
    "}\n",
    "pd.DataFrame(data)"
   ]
  },
  {
   "cell_type": "markdown",
   "id": "0cc01771",
   "metadata": {
    "ExecuteTime": {
     "end_time": "2021-10-14T08:37:12.894879Z",
     "start_time": "2021-10-14T08:37:12.892447Z"
    }
   },
   "source": [
    "## 使用字典创建"
   ]
  },
  {
   "cell_type": "code",
   "execution_count": 7,
   "id": "3bf82a48",
   "metadata": {
    "ExecuteTime": {
     "end_time": "2021-10-14T08:38:50.887551Z",
     "start_time": "2021-10-14T08:38:50.874372Z"
    }
   },
   "outputs": [
    {
     "data": {
      "text/html": [
       "<div>\n",
       "<style scoped>\n",
       "    .dataframe tbody tr th:only-of-type {\n",
       "        vertical-align: middle;\n",
       "    }\n",
       "\n",
       "    .dataframe tbody tr th {\n",
       "        vertical-align: top;\n",
       "    }\n",
       "\n",
       "    .dataframe thead th {\n",
       "        text-align: right;\n",
       "    }\n",
       "</style>\n",
       "<table border=\"1\" class=\"dataframe\">\n",
       "  <thead>\n",
       "    <tr style=\"text-align: right;\">\n",
       "      <th></th>\n",
       "      <th>a</th>\n",
       "      <th>b</th>\n",
       "      <th>c</th>\n",
       "    </tr>\n",
       "  </thead>\n",
       "  <tbody>\n",
       "    <tr>\n",
       "      <th>0</th>\n",
       "      <td>1</td>\n",
       "      <td>2</td>\n",
       "      <td>NaN</td>\n",
       "    </tr>\n",
       "    <tr>\n",
       "      <th>1</th>\n",
       "      <td>5</td>\n",
       "      <td>10</td>\n",
       "      <td>20.0</td>\n",
       "    </tr>\n",
       "  </tbody>\n",
       "</table>\n",
       "</div>"
      ],
      "text/plain": [
       "   a   b     c\n",
       "0  1   2   NaN\n",
       "1  5  10  20.0"
      ]
     },
     "execution_count": 7,
     "metadata": {},
     "output_type": "execute_result"
    }
   ],
   "source": [
    "data = [\n",
    "    {'a': 1, 'b': 2}, \n",
    "    {'a': 5, 'b': 10, 'c': 20}\n",
    "]\n",
    "pd.DataFrame(data)\n",
    "# 注意，缺失值被默认补充为 NaN"
   ]
  },
  {
   "cell_type": "markdown",
   "id": "9be8f018",
   "metadata": {},
   "source": [
    "## 访问指定行\n",
    "可以通过 DataFrame.loc 属性返回行。如果构建时没有设置索引，则默认从 0 开始。 "
   ]
  },
  {
   "cell_type": "code",
   "execution_count": 8,
   "id": "6d9d5a42",
   "metadata": {
    "ExecuteTime": {
     "end_time": "2021-10-14T08:43:46.655996Z",
     "start_time": "2021-10-14T08:43:46.650280Z"
    }
   },
   "outputs": [
    {
     "data": {
      "text/plain": [
       "calories    420\n",
       "duration     50\n",
       "Name: 0, dtype: int64"
      ]
     },
     "execution_count": 8,
     "metadata": {},
     "output_type": "execute_result"
    }
   ],
   "source": [
    "data = {\n",
    "    'calories': [420, 380, 390], \n",
    "    'duration': [50, 40, 45], \n",
    "}\n",
    "\n",
    "df = pd.DataFrame(data)\n",
    "df.loc[0]"
   ]
  },
  {
   "cell_type": "code",
   "execution_count": 9,
   "id": "b4836b2f",
   "metadata": {
    "ExecuteTime": {
     "end_time": "2021-10-14T08:44:08.400755Z",
     "start_time": "2021-10-14T08:44:08.395471Z"
    }
   },
   "outputs": [
    {
     "data": {
      "text/plain": [
       "pandas.core.series.Series"
      ]
     },
     "execution_count": 9,
     "metadata": {},
     "output_type": "execute_result"
    }
   ],
   "source": [
    "# 注意这是一个 Series 对象 \n",
    "type(df.loc[0])"
   ]
  },
  {
   "cell_type": "code",
   "execution_count": 10,
   "id": "8c56d015",
   "metadata": {
    "ExecuteTime": {
     "end_time": "2021-10-14T08:46:17.701799Z",
     "start_time": "2021-10-14T08:46:17.692033Z"
    }
   },
   "outputs": [
    {
     "data": {
      "text/html": [
       "<div>\n",
       "<style scoped>\n",
       "    .dataframe tbody tr th:only-of-type {\n",
       "        vertical-align: middle;\n",
       "    }\n",
       "\n",
       "    .dataframe tbody tr th {\n",
       "        vertical-align: top;\n",
       "    }\n",
       "\n",
       "    .dataframe thead th {\n",
       "        text-align: right;\n",
       "    }\n",
       "</style>\n",
       "<table border=\"1\" class=\"dataframe\">\n",
       "  <thead>\n",
       "    <tr style=\"text-align: right;\">\n",
       "      <th></th>\n",
       "      <th>calories</th>\n",
       "      <th>duration</th>\n",
       "    </tr>\n",
       "  </thead>\n",
       "  <tbody>\n",
       "    <tr>\n",
       "      <th>0</th>\n",
       "      <td>420</td>\n",
       "      <td>50</td>\n",
       "    </tr>\n",
       "    <tr>\n",
       "      <th>1</th>\n",
       "      <td>380</td>\n",
       "      <td>40</td>\n",
       "    </tr>\n",
       "  </tbody>\n",
       "</table>\n",
       "</div>"
      ],
      "text/plain": [
       "   calories  duration\n",
       "0       420        50\n",
       "1       380        40"
      ]
     },
     "execution_count": 10,
     "metadata": {},
     "output_type": "execute_result"
    }
   ],
   "source": [
    "# 通过 [[...]] 指定多行 \n",
    "df.loc[[0, 1]]"
   ]
  },
  {
   "cell_type": "code",
   "execution_count": 11,
   "id": "1a3c0625",
   "metadata": {
    "ExecuteTime": {
     "end_time": "2021-10-14T08:47:02.041937Z",
     "start_time": "2021-10-14T08:47:02.037358Z"
    }
   },
   "outputs": [
    {
     "data": {
      "text/plain": [
       "pandas.core.frame.DataFrame"
      ]
     },
     "execution_count": 11,
     "metadata": {},
     "output_type": "execute_result"
    }
   ],
   "source": [
    "type(df.loc[[0, 1]])"
   ]
  },
  {
   "cell_type": "markdown",
   "id": "36ead4db",
   "metadata": {
    "ExecuteTime": {
     "end_time": "2021-10-14T08:48:27.826780Z",
     "start_time": "2021-10-14T08:48:27.814260Z"
    }
   },
   "source": [
    "## 设置行索引"
   ]
  },
  {
   "cell_type": "code",
   "execution_count": null,
   "id": "d035a79c",
   "metadata": {},
   "outputs": [],
   "source": [
    "data = {\n",
    "    'calories': [420, 380, 390], \n",
    "    'duration': [50, 40, 45], \n",
    "}\n",
    "\n",
    "pd.DataFrame(data, index=['day1', 'day2', 'day3'])"
   ]
  }
 ],
 "metadata": {
  "hide_input": false,
  "kernelspec": {
   "display_name": "Python 3",
   "language": "python",
   "name": "python3"
  },
  "language_info": {
   "codemirror_mode": {
    "name": "ipython",
    "version": 3
   },
   "file_extension": ".py",
   "mimetype": "text/x-python",
   "name": "python",
   "nbconvert_exporter": "python",
   "pygments_lexer": "ipython3",
   "version": "3.8.8"
  },
  "toc": {
   "base_numbering": 1,
   "nav_menu": {},
   "number_sections": true,
   "sideBar": true,
   "skip_h1_title": false,
   "title_cell": "Table of Contents",
   "title_sidebar": "Contents",
   "toc_cell": false,
   "toc_position": {},
   "toc_section_display": true,
   "toc_window_display": false
  },
  "varInspector": {
   "cols": {
    "lenName": 16,
    "lenType": 16,
    "lenVar": 40
   },
   "kernels_config": {
    "python": {
     "delete_cmd_postfix": "",
     "delete_cmd_prefix": "del ",
     "library": "var_list.py",
     "varRefreshCmd": "print(var_dic_list())"
    },
    "r": {
     "delete_cmd_postfix": ") ",
     "delete_cmd_prefix": "rm(",
     "library": "var_list.r",
     "varRefreshCmd": "cat(var_dic_list()) "
    }
   },
   "types_to_exclude": [
    "module",
    "function",
    "builtin_function_or_method",
    "instance",
    "_Feature"
   ],
   "window_display": false
  }
 },
 "nbformat": 4,
 "nbformat_minor": 5
}
